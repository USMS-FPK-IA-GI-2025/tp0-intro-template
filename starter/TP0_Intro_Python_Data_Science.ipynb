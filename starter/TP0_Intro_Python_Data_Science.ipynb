{
  "cells": [
    {
      "cell_type": "markdown",
      "metadata": {
        "id": "view-in-github",
        "colab_type": "text"
      },
      "source": [
        "<a href=\"https://colab.research.google.com/github/USMS-FPK-IA-GI-2025/tp0-intro-template/blob/main/starter/TP0_Intro_Python_Data_Science.ipynb\" target=\"_parent\"><img src=\"https://colab.research.google.com/assets/colab-badge.svg\" alt=\"Open In Colab\"/></a>"
      ]
    },
    {
      "cell_type": "markdown",
      "source": [
        "# 🧪 TP0 — Introduction à Python pour la Data Science\n",
        "\n",
        "[![Ouvrir dans Google Colab](https://colab.research.google.com/assets/colab-badge.svg)](https://colab.research.google.com/github/USMS-FPK-IA-GI-2025/tp0-intro-template/blob/main/starter/TP0_Intro_Python_Data_Science.ipynb)\n",
        "\n",
        "> Cliquez sur le badge ci-dessus pour ouvrir ce TP directement dans **Google Colab**.  \n",
        "> Vous pouvez ensuite exécuter les cellules, compléter les fonctions demandées et soumettre vos résultats sur GitHub Classroom.\n"
      ],
      "metadata": {
        "id": "D6jjsQemm3WX"
      },
      "id": "D6jjsQemm3WX"
    },
    {
      "cell_type": "markdown",
      "metadata": {
        "id": "05a7WMG2m0tt"
      },
      "source": [
        "# TP0 — Introduction à Python pour la Data Science\n",
        "\n",
        "Objectifs : valider l'environnement, réviser Python de base et un peu de NumPy, et apprendre le workflow GitHub Classroom."
      ],
      "id": "05a7WMG2m0tt"
    },
    {
      "cell_type": "markdown",
      "metadata": {
        "id": "dHXcX-2sm0tv"
      },
      "source": [
        "## 1) Préparation de l'environnement\n",
        "- Si vous êtes sur Colab : exécutez la cellule suivante pour installer les dépendances et lancer les tests."
      ],
      "id": "dHXcX-2sm0tv"
    },
    {
      "cell_type": "code",
      "execution_count": null,
      "metadata": {
        "id": "Hj_S3Oa6m0tv"
      },
      "outputs": [],
      "source": [
        "!pip -q install -r requirements.txt\n",
        "!pytest -q"
      ],
      "id": "Hj_S3Oa6m0tv"
    },
    {
      "cell_type": "markdown",
      "metadata": {
        "id": "_K-1l-Sam0tv"
      },
      "source": [
        "## 2) Éditez `src/answers.py`\n",
        "Ouvrez le fichier `src/answers.py` et complétez les TODOs :\n",
        "- `STUDENT_GITHUB` : votre identifiant GitHub (chaîne non vide)\n",
        "- `add(a, b)` : retourne `a + b`\n",
        "- `arr` : `np.array([1, 2, 3])`\n",
        "- `arr_mean` : moyenne de `arr`\n",
        "- `normalize(x)` : min-max normalisation avec gestion du cas plat"
      ],
      "id": "_K-1l-Sam0tv"
    },
    {
      "cell_type": "markdown",
      "metadata": {
        "id": "jmXOpZYhm0tw"
      },
      "source": [
        "## 3) Relancez les tests\n",
        "Quand vous avez terminé, relancez :"
      ],
      "id": "jmXOpZYhm0tw"
    },
    {
      "cell_type": "code",
      "execution_count": null,
      "metadata": {
        "id": "s46FYGwdm0tw"
      },
      "outputs": [],
      "source": [
        "!pytest -q"
      ],
      "id": "s46FYGwdm0tw"
    }
  ],
  "metadata": {
    "kernelspec": {
      "display_name": "Python 3",
      "language": "python",
      "name": "python3"
    },
    "language_info": {
      "name": "python"
    },
    "colab": {
      "provenance": [],
      "include_colab_link": true
    }
  },
  "nbformat": 4,
  "nbformat_minor": 5
}