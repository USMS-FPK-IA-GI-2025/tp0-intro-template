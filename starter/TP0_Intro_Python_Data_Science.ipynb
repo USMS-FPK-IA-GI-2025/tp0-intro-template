{
 "cells": [
  {
   "cell_type": "markdown",
   "metadata": {},
   "source": [
    "# TP0 — Introduction à Python pour la Data Science\n",
    "\n",
    "Objectifs : valider l'environnement, réviser Python de base et un peu de NumPy, et apprendre le workflow GitHub Classroom."
   ]
  },
  {
   "cell_type": "markdown",
   "metadata": {},
   "source": [
    "## 1) Préparation de l'environnement\n",
    "- Si vous êtes sur Colab : exécutez la cellule suivante pour installer les dépendances et lancer les tests."
   ]
  },
  {
   "cell_type": "code",
   "execution_count": null,
   "metadata": {},
   "outputs": [],
   "source": [
    "!pip -q install -r requirements.txt\n",
    "!pytest -q"
   ]
  },
  {
   "cell_type": "markdown",
   "metadata": {},
   "source": [
    "## 2) Éditez `src/answers.py`\n",
    "Ouvrez le fichier `src/answers.py` et complétez les TODOs :\n",
    "- `STUDENT_GITHUB` : votre identifiant GitHub (chaîne non vide)\n",
    "- `add(a, b)` : retourne `a + b`\n",
    "- `arr` : `np.array([1, 2, 3])`\n",
    "- `arr_mean` : moyenne de `arr`\n",
    "- `normalize(x)` : min-max normalisation avec gestion du cas plat"
   ]
  },
  {
   "cell_type": "markdown",
   "metadata": {},
   "source": [
    "## 3) Relancez les tests\n",
    "Quand vous avez terminé, relancez :"
   ]
  },
  {
   "cell_type": "code",
   "execution_count": null,
   "metadata": {},
   "outputs": [],
   "source": [
    "!pytest -q"
   ]
  }
 ],
 "metadata": {
  "kernelspec": {
   "display_name": "Python 3",
   "language": "python",
   "name": "python3"
  },
  "language_info": {
   "name": "python"
  }
 },
 "nbformat": 4,
 "nbformat_minor": 5
}
